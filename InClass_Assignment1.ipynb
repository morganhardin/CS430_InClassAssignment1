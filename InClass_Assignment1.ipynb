{
  "nbformat": 4,
  "nbformat_minor": 0,
  "metadata": {
    "colab": {
      "provenance": [],
      "collapsed_sections": []
    },
    "kernelspec": {
      "name": "python3",
      "display_name": "Python 3"
    },
    "language_info": {
      "name": "python"
    }
  },
  "cells": [
    {
      "cell_type": "markdown",
      "source": [
        "## Importing the Libraries"
      ],
      "metadata": {
        "id": "LIlOovEE_rap"
      }
    },
    {
      "cell_type": "markdown",
      "source": [
        "This imports pandas, numpy, matplotlib.pyplot, and seaborn so that they can be used to manipulate and analyze the data from the csv file."
      ],
      "metadata": {
        "id": "Mdi5fldqUUJo"
      }
    },
    {
      "cell_type": "code",
      "execution_count": 472,
      "metadata": {
        "id": "esd38Raj_nMp"
      },
      "outputs": [],
      "source": [
        "import pandas as pd\n",
        "import numpy as np\n",
        "import matplotlib.pyplot as plt"
      ]
    },
    {
      "cell_type": "markdown",
      "source": [
        "## Reading the Dataset"
      ],
      "metadata": {
        "id": "8oQi7QZQAAaT"
      }
    },
    {
      "cell_type": "markdown",
      "source": [
        "`dataset` is created here by using pandas to read the csv file and pull all the data into a single place."
      ],
      "metadata": {
        "id": "TwXzL87BUZ5R"
      }
    },
    {
      "cell_type": "code",
      "source": [
        "dataset = pd.read_csv(\"/content/drive/MyDrive/Colab Notebooks/CS 430 Machine Learning/InClass_Assignment1/HRDataset_v14.csv.xls\")"
      ],
      "metadata": {
        "id": "ATFnjrpiACJt"
      },
      "execution_count": 473,
      "outputs": []
    },
    {
      "cell_type": "markdown",
      "source": [
        "## Exploring the Dataset"
      ],
      "metadata": {
        "id": "X1s_ubGFAGIi"
      }
    },
    {
      "cell_type": "markdown",
      "source": [
        "`dataset.head()` allows the user to see the first 5 rows of the dataset. `dataset.info()` allows the user to see the total number of entries, the datatypes of each column, how many entries are null / not null, and each column in the dataset."
      ],
      "metadata": {
        "id": "_yhTuODlUemR"
      }
    },
    {
      "cell_type": "code",
      "source": [
        "dataset.head()"
      ],
      "metadata": {
        "colab": {
          "base_uri": "https://localhost:8080/",
          "height": 314
        },
        "id": "YT0Q37QQAJ2T",
        "outputId": "b61f4a73-0a7f-4469-9898-c5d27bb9d1d5"
      },
      "execution_count": 487,
      "outputs": [
        {
          "output_type": "execute_result",
          "data": {
            "text/plain": [
              "   GenderID  EmpStatusID  DeptID  PerfScoreID  FromDiversityJobFairID  Salary  \\\n",
              "0         1            1       5            4                       0   62506   \n",
              "1         1            5       3            3                       0  104437   \n",
              "2         0            5       5            3                       0   64955   \n",
              "3         0            1       5            3                       0   64991   \n",
              "4         0            5       5            3                       0   50825   \n",
              "\n",
              "   Termd  PositionID   Zip  EngagementSurvey  ...  Department_Admin Offices  \\\n",
              "0      0          19  1960              4.60  ...                         0   \n",
              "1      1          27  2148              4.96  ...                         0   \n",
              "2      1          20  1810              3.02  ...                         0   \n",
              "3      0          19  1886              4.84  ...                         0   \n",
              "4      1          19  2169              5.00  ...                         0   \n",
              "\n",
              "   Department_Executive Office  Department_IT/IS  \\\n",
              "0                            0                 0   \n",
              "1                            0                 1   \n",
              "2                            0                 0   \n",
              "3                            0                 0   \n",
              "4                            0                 0   \n",
              "\n",
              "   Department_Production         Department_Sales  \\\n",
              "0                             1                 0   \n",
              "1                             0                 0   \n",
              "2                             1                 0   \n",
              "3                             1                 0   \n",
              "4                             1                 0   \n",
              "\n",
              "   Department_Software Engineering  PerformanceScore_Exceeds  \\\n",
              "0                                0                         1   \n",
              "1                                0                         0   \n",
              "2                                0                         0   \n",
              "3                                0                         0   \n",
              "4                                0                         0   \n",
              "\n",
              "   PerformanceScore_Fully Meets  PerformanceScore_Needs Improvement  \\\n",
              "0                             0                                   0   \n",
              "1                             1                                   0   \n",
              "2                             1                                   0   \n",
              "3                             1                                   0   \n",
              "4                             1                                   0   \n",
              "\n",
              "   PerformanceScore_PIP  \n",
              "0                     0  \n",
              "1                     0  \n",
              "2                     0  \n",
              "3                     0  \n",
              "4                     0  \n",
              "\n",
              "[5 rows x 166 columns]"
            ],
            "text/html": [
              "\n",
              "  <div id=\"df-bb731646-696a-4f72-aef8-503708143a4b\">\n",
              "    <div class=\"colab-df-container\">\n",
              "      <div>\n",
              "<style scoped>\n",
              "    .dataframe tbody tr th:only-of-type {\n",
              "        vertical-align: middle;\n",
              "    }\n",
              "\n",
              "    .dataframe tbody tr th {\n",
              "        vertical-align: top;\n",
              "    }\n",
              "\n",
              "    .dataframe thead th {\n",
              "        text-align: right;\n",
              "    }\n",
              "</style>\n",
              "<table border=\"1\" class=\"dataframe\">\n",
              "  <thead>\n",
              "    <tr style=\"text-align: right;\">\n",
              "      <th></th>\n",
              "      <th>GenderID</th>\n",
              "      <th>EmpStatusID</th>\n",
              "      <th>DeptID</th>\n",
              "      <th>PerfScoreID</th>\n",
              "      <th>FromDiversityJobFairID</th>\n",
              "      <th>Salary</th>\n",
              "      <th>Termd</th>\n",
              "      <th>PositionID</th>\n",
              "      <th>Zip</th>\n",
              "      <th>EngagementSurvey</th>\n",
              "      <th>...</th>\n",
              "      <th>Department_Admin Offices</th>\n",
              "      <th>Department_Executive Office</th>\n",
              "      <th>Department_IT/IS</th>\n",
              "      <th>Department_Production</th>\n",
              "      <th>Department_Sales</th>\n",
              "      <th>Department_Software Engineering</th>\n",
              "      <th>PerformanceScore_Exceeds</th>\n",
              "      <th>PerformanceScore_Fully Meets</th>\n",
              "      <th>PerformanceScore_Needs Improvement</th>\n",
              "      <th>PerformanceScore_PIP</th>\n",
              "    </tr>\n",
              "  </thead>\n",
              "  <tbody>\n",
              "    <tr>\n",
              "      <th>0</th>\n",
              "      <td>1</td>\n",
              "      <td>1</td>\n",
              "      <td>5</td>\n",
              "      <td>4</td>\n",
              "      <td>0</td>\n",
              "      <td>62506</td>\n",
              "      <td>0</td>\n",
              "      <td>19</td>\n",
              "      <td>1960</td>\n",
              "      <td>4.60</td>\n",
              "      <td>...</td>\n",
              "      <td>0</td>\n",
              "      <td>0</td>\n",
              "      <td>0</td>\n",
              "      <td>1</td>\n",
              "      <td>0</td>\n",
              "      <td>0</td>\n",
              "      <td>1</td>\n",
              "      <td>0</td>\n",
              "      <td>0</td>\n",
              "      <td>0</td>\n",
              "    </tr>\n",
              "    <tr>\n",
              "      <th>1</th>\n",
              "      <td>1</td>\n",
              "      <td>5</td>\n",
              "      <td>3</td>\n",
              "      <td>3</td>\n",
              "      <td>0</td>\n",
              "      <td>104437</td>\n",
              "      <td>1</td>\n",
              "      <td>27</td>\n",
              "      <td>2148</td>\n",
              "      <td>4.96</td>\n",
              "      <td>...</td>\n",
              "      <td>0</td>\n",
              "      <td>0</td>\n",
              "      <td>1</td>\n",
              "      <td>0</td>\n",
              "      <td>0</td>\n",
              "      <td>0</td>\n",
              "      <td>0</td>\n",
              "      <td>1</td>\n",
              "      <td>0</td>\n",
              "      <td>0</td>\n",
              "    </tr>\n",
              "    <tr>\n",
              "      <th>2</th>\n",
              "      <td>0</td>\n",
              "      <td>5</td>\n",
              "      <td>5</td>\n",
              "      <td>3</td>\n",
              "      <td>0</td>\n",
              "      <td>64955</td>\n",
              "      <td>1</td>\n",
              "      <td>20</td>\n",
              "      <td>1810</td>\n",
              "      <td>3.02</td>\n",
              "      <td>...</td>\n",
              "      <td>0</td>\n",
              "      <td>0</td>\n",
              "      <td>0</td>\n",
              "      <td>1</td>\n",
              "      <td>0</td>\n",
              "      <td>0</td>\n",
              "      <td>0</td>\n",
              "      <td>1</td>\n",
              "      <td>0</td>\n",
              "      <td>0</td>\n",
              "    </tr>\n",
              "    <tr>\n",
              "      <th>3</th>\n",
              "      <td>0</td>\n",
              "      <td>1</td>\n",
              "      <td>5</td>\n",
              "      <td>3</td>\n",
              "      <td>0</td>\n",
              "      <td>64991</td>\n",
              "      <td>0</td>\n",
              "      <td>19</td>\n",
              "      <td>1886</td>\n",
              "      <td>4.84</td>\n",
              "      <td>...</td>\n",
              "      <td>0</td>\n",
              "      <td>0</td>\n",
              "      <td>0</td>\n",
              "      <td>1</td>\n",
              "      <td>0</td>\n",
              "      <td>0</td>\n",
              "      <td>0</td>\n",
              "      <td>1</td>\n",
              "      <td>0</td>\n",
              "      <td>0</td>\n",
              "    </tr>\n",
              "    <tr>\n",
              "      <th>4</th>\n",
              "      <td>0</td>\n",
              "      <td>5</td>\n",
              "      <td>5</td>\n",
              "      <td>3</td>\n",
              "      <td>0</td>\n",
              "      <td>50825</td>\n",
              "      <td>1</td>\n",
              "      <td>19</td>\n",
              "      <td>2169</td>\n",
              "      <td>5.00</td>\n",
              "      <td>...</td>\n",
              "      <td>0</td>\n",
              "      <td>0</td>\n",
              "      <td>0</td>\n",
              "      <td>1</td>\n",
              "      <td>0</td>\n",
              "      <td>0</td>\n",
              "      <td>0</td>\n",
              "      <td>1</td>\n",
              "      <td>0</td>\n",
              "      <td>0</td>\n",
              "    </tr>\n",
              "  </tbody>\n",
              "</table>\n",
              "<p>5 rows × 166 columns</p>\n",
              "</div>\n",
              "      <button class=\"colab-df-convert\" onclick=\"convertToInteractive('df-bb731646-696a-4f72-aef8-503708143a4b')\"\n",
              "              title=\"Convert this dataframe to an interactive table.\"\n",
              "              style=\"display:none;\">\n",
              "        \n",
              "  <svg xmlns=\"http://www.w3.org/2000/svg\" height=\"24px\"viewBox=\"0 0 24 24\"\n",
              "       width=\"24px\">\n",
              "    <path d=\"M0 0h24v24H0V0z\" fill=\"none\"/>\n",
              "    <path d=\"M18.56 5.44l.94 2.06.94-2.06 2.06-.94-2.06-.94-.94-2.06-.94 2.06-2.06.94zm-11 1L8.5 8.5l.94-2.06 2.06-.94-2.06-.94L8.5 2.5l-.94 2.06-2.06.94zm10 10l.94 2.06.94-2.06 2.06-.94-2.06-.94-.94-2.06-.94 2.06-2.06.94z\"/><path d=\"M17.41 7.96l-1.37-1.37c-.4-.4-.92-.59-1.43-.59-.52 0-1.04.2-1.43.59L10.3 9.45l-7.72 7.72c-.78.78-.78 2.05 0 2.83L4 21.41c.39.39.9.59 1.41.59.51 0 1.02-.2 1.41-.59l7.78-7.78 2.81-2.81c.8-.78.8-2.07 0-2.86zM5.41 20L4 18.59l7.72-7.72 1.47 1.35L5.41 20z\"/>\n",
              "  </svg>\n",
              "      </button>\n",
              "      \n",
              "  <style>\n",
              "    .colab-df-container {\n",
              "      display:flex;\n",
              "      flex-wrap:wrap;\n",
              "      gap: 12px;\n",
              "    }\n",
              "\n",
              "    .colab-df-convert {\n",
              "      background-color: #E8F0FE;\n",
              "      border: none;\n",
              "      border-radius: 50%;\n",
              "      cursor: pointer;\n",
              "      display: none;\n",
              "      fill: #1967D2;\n",
              "      height: 32px;\n",
              "      padding: 0 0 0 0;\n",
              "      width: 32px;\n",
              "    }\n",
              "\n",
              "    .colab-df-convert:hover {\n",
              "      background-color: #E2EBFA;\n",
              "      box-shadow: 0px 1px 2px rgba(60, 64, 67, 0.3), 0px 1px 3px 1px rgba(60, 64, 67, 0.15);\n",
              "      fill: #174EA6;\n",
              "    }\n",
              "\n",
              "    [theme=dark] .colab-df-convert {\n",
              "      background-color: #3B4455;\n",
              "      fill: #D2E3FC;\n",
              "    }\n",
              "\n",
              "    [theme=dark] .colab-df-convert:hover {\n",
              "      background-color: #434B5C;\n",
              "      box-shadow: 0px 1px 3px 1px rgba(0, 0, 0, 0.15);\n",
              "      filter: drop-shadow(0px 1px 2px rgba(0, 0, 0, 0.3));\n",
              "      fill: #FFFFFF;\n",
              "    }\n",
              "  </style>\n",
              "\n",
              "      <script>\n",
              "        const buttonEl =\n",
              "          document.querySelector('#df-bb731646-696a-4f72-aef8-503708143a4b button.colab-df-convert');\n",
              "        buttonEl.style.display =\n",
              "          google.colab.kernel.accessAllowed ? 'block' : 'none';\n",
              "\n",
              "        async function convertToInteractive(key) {\n",
              "          const element = document.querySelector('#df-bb731646-696a-4f72-aef8-503708143a4b');\n",
              "          const dataTable =\n",
              "            await google.colab.kernel.invokeFunction('convertToInteractive',\n",
              "                                                     [key], {});\n",
              "          if (!dataTable) return;\n",
              "\n",
              "          const docLinkHtml = 'Like what you see? Visit the ' +\n",
              "            '<a target=\"_blank\" href=https://colab.research.google.com/notebooks/data_table.ipynb>data table notebook</a>'\n",
              "            + ' to learn more about interactive tables.';\n",
              "          element.innerHTML = '';\n",
              "          dataTable['output_type'] = 'display_data';\n",
              "          await google.colab.output.renderOutput(dataTable, element);\n",
              "          const docLink = document.createElement('div');\n",
              "          docLink.innerHTML = docLinkHtml;\n",
              "          element.appendChild(docLink);\n",
              "        }\n",
              "      </script>\n",
              "    </div>\n",
              "  </div>\n",
              "  "
            ]
          },
          "metadata": {},
          "execution_count": 487
        }
      ]
    },
    {
      "cell_type": "code",
      "source": [
        "dataset.info()"
      ],
      "metadata": {
        "colab": {
          "base_uri": "https://localhost:8080/"
        },
        "id": "i3AMQaJgAL-T",
        "outputId": "ecafc394-b9b1-4f4c-c6bb-434fe9719e84"
      },
      "execution_count": 488,
      "outputs": [
        {
          "output_type": "stream",
          "name": "stdout",
          "text": [
            "<class 'pandas.core.frame.DataFrame'>\n",
            "RangeIndex: 311 entries, 0 to 310\n",
            "Columns: 166 entries, GenderID to PerformanceScore_PIP\n",
            "dtypes: float64(1), int64(13), uint8(152)\n",
            "memory usage: 80.3 KB\n"
          ]
        }
      ]
    },
    {
      "cell_type": "markdown",
      "source": [
        "## Dropping Unnecessary Columns and Imputing Categorical Data"
      ],
      "metadata": {
        "id": "o0sxcU_xAiSx"
      }
    },
    {
      "cell_type": "markdown",
      "source": [
        "The columns that were either not useful in finding the best salary score and some categorical columns were dropped so that there were less columns to be trained and tested. `dataset.info()` shows that the columns not needed have been dropped and are no longer in the dataset. `get_dummies()` is used here to impute the categorical columns that were useful into numerical data. `dataset.head()` shows that all the data in the dataset are all numerical data."
      ],
      "metadata": {
        "id": "-vJGQdVHUm1D"
      }
    },
    {
      "cell_type": "code",
      "source": [
        "dataset = dataset.drop(['Employee_Name', 'EmpID', 'MarriedID', 'MaritalStatusID', 'Position', 'DOB', 'Sex', 'MaritalDesc', 'CitizenDesc', 'DateofTermination', 'TermReason', 'ManagerName', 'ManagerID', 'RecruitmentSource', 'LastPerformanceReview_Date'], axis = 1)"
      ],
      "metadata": {
        "id": "zU3ZOHErAkRQ"
      },
      "execution_count": 476,
      "outputs": []
    },
    {
      "cell_type": "code",
      "source": [
        "dataset.info()"
      ],
      "metadata": {
        "colab": {
          "base_uri": "https://localhost:8080/"
        },
        "id": "U2KcrKmzBjQ8",
        "outputId": "1d955dd5-d298-40f7-c6f3-b0aa29f1066f"
      },
      "execution_count": 477,
      "outputs": [
        {
          "output_type": "stream",
          "name": "stdout",
          "text": [
            "<class 'pandas.core.frame.DataFrame'>\n",
            "RangeIndex: 311 entries, 0 to 310\n",
            "Data columns (total 21 columns):\n",
            " #   Column                  Non-Null Count  Dtype  \n",
            "---  ------                  --------------  -----  \n",
            " 0   GenderID                311 non-null    int64  \n",
            " 1   EmpStatusID             311 non-null    int64  \n",
            " 2   DeptID                  311 non-null    int64  \n",
            " 3   PerfScoreID             311 non-null    int64  \n",
            " 4   FromDiversityJobFairID  311 non-null    int64  \n",
            " 5   Salary                  311 non-null    int64  \n",
            " 6   Termd                   311 non-null    int64  \n",
            " 7   PositionID              311 non-null    int64  \n",
            " 8   State                   311 non-null    object \n",
            " 9   Zip                     311 non-null    int64  \n",
            " 10  HispanicLatino          311 non-null    object \n",
            " 11  RaceDesc                311 non-null    object \n",
            " 12  DateofHire              311 non-null    object \n",
            " 13  EmploymentStatus        311 non-null    object \n",
            " 14  Department              311 non-null    object \n",
            " 15  PerformanceScore        311 non-null    object \n",
            " 16  EngagementSurvey        311 non-null    float64\n",
            " 17  EmpSatisfaction         311 non-null    int64  \n",
            " 18  SpecialProjectsCount    311 non-null    int64  \n",
            " 19  DaysLateLast30          311 non-null    int64  \n",
            " 20  Absences                311 non-null    int64  \n",
            "dtypes: float64(1), int64(13), object(7)\n",
            "memory usage: 51.1+ KB\n"
          ]
        }
      ]
    },
    {
      "cell_type": "code",
      "source": [
        "dataset = pd.get_dummies(dataset, ['State', 'HispanicLatino', 'RaceDesc', 'DateofHire', 'EmploymentStatus', 'Department', 'PerformanceScore'])"
      ],
      "metadata": {
        "id": "jgzdI-osGygY"
      },
      "execution_count": 478,
      "outputs": []
    },
    {
      "cell_type": "code",
      "source": [
        "dataset.head()"
      ],
      "metadata": {
        "colab": {
          "base_uri": "https://localhost:8080/",
          "height": 314
        },
        "id": "bjG9TV3bHW7k",
        "outputId": "ee33934c-78a2-4ae9-caf2-58b0fc7451c7"
      },
      "execution_count": 479,
      "outputs": [
        {
          "output_type": "execute_result",
          "data": {
            "text/plain": [
              "   GenderID  EmpStatusID  DeptID  PerfScoreID  FromDiversityJobFairID  Salary  \\\n",
              "0         1            1       5            4                       0   62506   \n",
              "1         1            5       3            3                       0  104437   \n",
              "2         0            5       5            3                       0   64955   \n",
              "3         0            1       5            3                       0   64991   \n",
              "4         0            5       5            3                       0   50825   \n",
              "\n",
              "   Termd  PositionID   Zip  EngagementSurvey  ...  Department_Admin Offices  \\\n",
              "0      0          19  1960              4.60  ...                         0   \n",
              "1      1          27  2148              4.96  ...                         0   \n",
              "2      1          20  1810              3.02  ...                         0   \n",
              "3      0          19  1886              4.84  ...                         0   \n",
              "4      1          19  2169              5.00  ...                         0   \n",
              "\n",
              "   Department_Executive Office  Department_IT/IS  \\\n",
              "0                            0                 0   \n",
              "1                            0                 1   \n",
              "2                            0                 0   \n",
              "3                            0                 0   \n",
              "4                            0                 0   \n",
              "\n",
              "   Department_Production         Department_Sales  \\\n",
              "0                             1                 0   \n",
              "1                             0                 0   \n",
              "2                             1                 0   \n",
              "3                             1                 0   \n",
              "4                             1                 0   \n",
              "\n",
              "   Department_Software Engineering  PerformanceScore_Exceeds  \\\n",
              "0                                0                         1   \n",
              "1                                0                         0   \n",
              "2                                0                         0   \n",
              "3                                0                         0   \n",
              "4                                0                         0   \n",
              "\n",
              "   PerformanceScore_Fully Meets  PerformanceScore_Needs Improvement  \\\n",
              "0                             0                                   0   \n",
              "1                             1                                   0   \n",
              "2                             1                                   0   \n",
              "3                             1                                   0   \n",
              "4                             1                                   0   \n",
              "\n",
              "   PerformanceScore_PIP  \n",
              "0                     0  \n",
              "1                     0  \n",
              "2                     0  \n",
              "3                     0  \n",
              "4                     0  \n",
              "\n",
              "[5 rows x 166 columns]"
            ],
            "text/html": [
              "\n",
              "  <div id=\"df-6d6f4175-0db8-4064-a615-a5d9ac6dbac9\">\n",
              "    <div class=\"colab-df-container\">\n",
              "      <div>\n",
              "<style scoped>\n",
              "    .dataframe tbody tr th:only-of-type {\n",
              "        vertical-align: middle;\n",
              "    }\n",
              "\n",
              "    .dataframe tbody tr th {\n",
              "        vertical-align: top;\n",
              "    }\n",
              "\n",
              "    .dataframe thead th {\n",
              "        text-align: right;\n",
              "    }\n",
              "</style>\n",
              "<table border=\"1\" class=\"dataframe\">\n",
              "  <thead>\n",
              "    <tr style=\"text-align: right;\">\n",
              "      <th></th>\n",
              "      <th>GenderID</th>\n",
              "      <th>EmpStatusID</th>\n",
              "      <th>DeptID</th>\n",
              "      <th>PerfScoreID</th>\n",
              "      <th>FromDiversityJobFairID</th>\n",
              "      <th>Salary</th>\n",
              "      <th>Termd</th>\n",
              "      <th>PositionID</th>\n",
              "      <th>Zip</th>\n",
              "      <th>EngagementSurvey</th>\n",
              "      <th>...</th>\n",
              "      <th>Department_Admin Offices</th>\n",
              "      <th>Department_Executive Office</th>\n",
              "      <th>Department_IT/IS</th>\n",
              "      <th>Department_Production</th>\n",
              "      <th>Department_Sales</th>\n",
              "      <th>Department_Software Engineering</th>\n",
              "      <th>PerformanceScore_Exceeds</th>\n",
              "      <th>PerformanceScore_Fully Meets</th>\n",
              "      <th>PerformanceScore_Needs Improvement</th>\n",
              "      <th>PerformanceScore_PIP</th>\n",
              "    </tr>\n",
              "  </thead>\n",
              "  <tbody>\n",
              "    <tr>\n",
              "      <th>0</th>\n",
              "      <td>1</td>\n",
              "      <td>1</td>\n",
              "      <td>5</td>\n",
              "      <td>4</td>\n",
              "      <td>0</td>\n",
              "      <td>62506</td>\n",
              "      <td>0</td>\n",
              "      <td>19</td>\n",
              "      <td>1960</td>\n",
              "      <td>4.60</td>\n",
              "      <td>...</td>\n",
              "      <td>0</td>\n",
              "      <td>0</td>\n",
              "      <td>0</td>\n",
              "      <td>1</td>\n",
              "      <td>0</td>\n",
              "      <td>0</td>\n",
              "      <td>1</td>\n",
              "      <td>0</td>\n",
              "      <td>0</td>\n",
              "      <td>0</td>\n",
              "    </tr>\n",
              "    <tr>\n",
              "      <th>1</th>\n",
              "      <td>1</td>\n",
              "      <td>5</td>\n",
              "      <td>3</td>\n",
              "      <td>3</td>\n",
              "      <td>0</td>\n",
              "      <td>104437</td>\n",
              "      <td>1</td>\n",
              "      <td>27</td>\n",
              "      <td>2148</td>\n",
              "      <td>4.96</td>\n",
              "      <td>...</td>\n",
              "      <td>0</td>\n",
              "      <td>0</td>\n",
              "      <td>1</td>\n",
              "      <td>0</td>\n",
              "      <td>0</td>\n",
              "      <td>0</td>\n",
              "      <td>0</td>\n",
              "      <td>1</td>\n",
              "      <td>0</td>\n",
              "      <td>0</td>\n",
              "    </tr>\n",
              "    <tr>\n",
              "      <th>2</th>\n",
              "      <td>0</td>\n",
              "      <td>5</td>\n",
              "      <td>5</td>\n",
              "      <td>3</td>\n",
              "      <td>0</td>\n",
              "      <td>64955</td>\n",
              "      <td>1</td>\n",
              "      <td>20</td>\n",
              "      <td>1810</td>\n",
              "      <td>3.02</td>\n",
              "      <td>...</td>\n",
              "      <td>0</td>\n",
              "      <td>0</td>\n",
              "      <td>0</td>\n",
              "      <td>1</td>\n",
              "      <td>0</td>\n",
              "      <td>0</td>\n",
              "      <td>0</td>\n",
              "      <td>1</td>\n",
              "      <td>0</td>\n",
              "      <td>0</td>\n",
              "    </tr>\n",
              "    <tr>\n",
              "      <th>3</th>\n",
              "      <td>0</td>\n",
              "      <td>1</td>\n",
              "      <td>5</td>\n",
              "      <td>3</td>\n",
              "      <td>0</td>\n",
              "      <td>64991</td>\n",
              "      <td>0</td>\n",
              "      <td>19</td>\n",
              "      <td>1886</td>\n",
              "      <td>4.84</td>\n",
              "      <td>...</td>\n",
              "      <td>0</td>\n",
              "      <td>0</td>\n",
              "      <td>0</td>\n",
              "      <td>1</td>\n",
              "      <td>0</td>\n",
              "      <td>0</td>\n",
              "      <td>0</td>\n",
              "      <td>1</td>\n",
              "      <td>0</td>\n",
              "      <td>0</td>\n",
              "    </tr>\n",
              "    <tr>\n",
              "      <th>4</th>\n",
              "      <td>0</td>\n",
              "      <td>5</td>\n",
              "      <td>5</td>\n",
              "      <td>3</td>\n",
              "      <td>0</td>\n",
              "      <td>50825</td>\n",
              "      <td>1</td>\n",
              "      <td>19</td>\n",
              "      <td>2169</td>\n",
              "      <td>5.00</td>\n",
              "      <td>...</td>\n",
              "      <td>0</td>\n",
              "      <td>0</td>\n",
              "      <td>0</td>\n",
              "      <td>1</td>\n",
              "      <td>0</td>\n",
              "      <td>0</td>\n",
              "      <td>0</td>\n",
              "      <td>1</td>\n",
              "      <td>0</td>\n",
              "      <td>0</td>\n",
              "    </tr>\n",
              "  </tbody>\n",
              "</table>\n",
              "<p>5 rows × 166 columns</p>\n",
              "</div>\n",
              "      <button class=\"colab-df-convert\" onclick=\"convertToInteractive('df-6d6f4175-0db8-4064-a615-a5d9ac6dbac9')\"\n",
              "              title=\"Convert this dataframe to an interactive table.\"\n",
              "              style=\"display:none;\">\n",
              "        \n",
              "  <svg xmlns=\"http://www.w3.org/2000/svg\" height=\"24px\"viewBox=\"0 0 24 24\"\n",
              "       width=\"24px\">\n",
              "    <path d=\"M0 0h24v24H0V0z\" fill=\"none\"/>\n",
              "    <path d=\"M18.56 5.44l.94 2.06.94-2.06 2.06-.94-2.06-.94-.94-2.06-.94 2.06-2.06.94zm-11 1L8.5 8.5l.94-2.06 2.06-.94-2.06-.94L8.5 2.5l-.94 2.06-2.06.94zm10 10l.94 2.06.94-2.06 2.06-.94-2.06-.94-.94-2.06-.94 2.06-2.06.94z\"/><path d=\"M17.41 7.96l-1.37-1.37c-.4-.4-.92-.59-1.43-.59-.52 0-1.04.2-1.43.59L10.3 9.45l-7.72 7.72c-.78.78-.78 2.05 0 2.83L4 21.41c.39.39.9.59 1.41.59.51 0 1.02-.2 1.41-.59l7.78-7.78 2.81-2.81c.8-.78.8-2.07 0-2.86zM5.41 20L4 18.59l7.72-7.72 1.47 1.35L5.41 20z\"/>\n",
              "  </svg>\n",
              "      </button>\n",
              "      \n",
              "  <style>\n",
              "    .colab-df-container {\n",
              "      display:flex;\n",
              "      flex-wrap:wrap;\n",
              "      gap: 12px;\n",
              "    }\n",
              "\n",
              "    .colab-df-convert {\n",
              "      background-color: #E8F0FE;\n",
              "      border: none;\n",
              "      border-radius: 50%;\n",
              "      cursor: pointer;\n",
              "      display: none;\n",
              "      fill: #1967D2;\n",
              "      height: 32px;\n",
              "      padding: 0 0 0 0;\n",
              "      width: 32px;\n",
              "    }\n",
              "\n",
              "    .colab-df-convert:hover {\n",
              "      background-color: #E2EBFA;\n",
              "      box-shadow: 0px 1px 2px rgba(60, 64, 67, 0.3), 0px 1px 3px 1px rgba(60, 64, 67, 0.15);\n",
              "      fill: #174EA6;\n",
              "    }\n",
              "\n",
              "    [theme=dark] .colab-df-convert {\n",
              "      background-color: #3B4455;\n",
              "      fill: #D2E3FC;\n",
              "    }\n",
              "\n",
              "    [theme=dark] .colab-df-convert:hover {\n",
              "      background-color: #434B5C;\n",
              "      box-shadow: 0px 1px 3px 1px rgba(0, 0, 0, 0.15);\n",
              "      filter: drop-shadow(0px 1px 2px rgba(0, 0, 0, 0.3));\n",
              "      fill: #FFFFFF;\n",
              "    }\n",
              "  </style>\n",
              "\n",
              "      <script>\n",
              "        const buttonEl =\n",
              "          document.querySelector('#df-6d6f4175-0db8-4064-a615-a5d9ac6dbac9 button.colab-df-convert');\n",
              "        buttonEl.style.display =\n",
              "          google.colab.kernel.accessAllowed ? 'block' : 'none';\n",
              "\n",
              "        async function convertToInteractive(key) {\n",
              "          const element = document.querySelector('#df-6d6f4175-0db8-4064-a615-a5d9ac6dbac9');\n",
              "          const dataTable =\n",
              "            await google.colab.kernel.invokeFunction('convertToInteractive',\n",
              "                                                     [key], {});\n",
              "          if (!dataTable) return;\n",
              "\n",
              "          const docLinkHtml = 'Like what you see? Visit the ' +\n",
              "            '<a target=\"_blank\" href=https://colab.research.google.com/notebooks/data_table.ipynb>data table notebook</a>'\n",
              "            + ' to learn more about interactive tables.';\n",
              "          element.innerHTML = '';\n",
              "          dataTable['output_type'] = 'display_data';\n",
              "          await google.colab.output.renderOutput(dataTable, element);\n",
              "          const docLink = document.createElement('div');\n",
              "          docLink.innerHTML = docLinkHtml;\n",
              "          element.appendChild(docLink);\n",
              "        }\n",
              "      </script>\n",
              "    </div>\n",
              "  </div>\n",
              "  "
            ]
          },
          "metadata": {},
          "execution_count": 479
        }
      ]
    },
    {
      "cell_type": "markdown",
      "source": [
        "## Splitting the Dataset"
      ],
      "metadata": {
        "id": "00vSbFiSBWBp"
      }
    },
    {
      "cell_type": "markdown",
      "source": [
        "The `x` and `y` variables are created using the drop method. `train_test_split` is called from sklearn to split the data 80/20 into 4 different parts, `x_train`, `x_test`, `y_train`, and `y_test`."
      ],
      "metadata": {
        "id": "zvcV5VZ2VYv4"
      }
    },
    {
      "cell_type": "code",
      "source": [
        "x = dataset.drop(['Salary'], axis = 1)\n",
        "y = dataset[['Salary']]"
      ],
      "metadata": {
        "id": "s6F3lgKcBemx"
      },
      "execution_count": 480,
      "outputs": []
    },
    {
      "cell_type": "code",
      "source": [
        "from sklearn.model_selection import train_test_split\n",
        "x_train, x_test, y_train, y_test = train_test_split(x, y, test_size = 0.2, random_state = 42)"
      ],
      "metadata": {
        "id": "dHH092diBXpG"
      },
      "execution_count": 481,
      "outputs": []
    },
    {
      "cell_type": "markdown",
      "source": [
        "## Scaling the Dataset"
      ],
      "metadata": {
        "id": "vn597c6-H_sY"
      }
    },
    {
      "cell_type": "markdown",
      "source": [
        "`StandardScaler()` is called from `sklearn.preprocessing` to take both x and y training and test sets and scale them to fit the rest of the data and make the model more accurate."
      ],
      "metadata": {
        "id": "9PadUZyfVq0s"
      }
    },
    {
      "cell_type": "code",
      "source": [
        "from sklearn.preprocessing import StandardScaler\n",
        "sc_x = StandardScaler()\n",
        "sc_y = StandardScaler()\n",
        "x_train = sc_x.fit_transform(x_train)\n",
        "x_test = sc_x.transform(x_test)\n",
        "y_train = sc_y.fit_transform(y_train)\n",
        "y_test = sc_y.transform(y_test)"
      ],
      "metadata": {
        "id": "nVbzGAHYIBpP"
      },
      "execution_count": 482,
      "outputs": []
    },
    {
      "cell_type": "markdown",
      "source": [
        "## Randomized Search CV"
      ],
      "metadata": {
        "id": "-gKvJccTBr2r"
      }
    },
    {
      "cell_type": "markdown",
      "source": [
        "`model_params` is a dictionary that was created that holds `LinearRegression`, `SGD` and its parameters, `Ridge` and its parameters, `SVR` and its parameters, and `DecisionTree` and its parameters. These all allow that model to determine the best score out of these parameters and regressors in order to find the most accurate model. A for loop is then used to loop through the parameters to find the best score, best parameters, and which model it came from, then saving it in a score array. It then prints the scores so that we can see the best score and parameters from each model to then compare the data to determine which model is the best. This model has the `DecisionTreeRegressor` having the highest score, making it the best model for this dataset."
      ],
      "metadata": {
        "id": "d1btkUe-XGVa"
      }
    },
    {
      "cell_type": "code",
      "source": [
        "from sklearn.linear_model import LinearRegression, SGDRegressor, Ridge\n",
        "from sklearn.svm import SVR\n",
        "from sklearn.tree import DecisionTreeRegressor\n",
        "\n",
        "model_params = {\n",
        "    'LinearRegression': {\n",
        "        'model': LinearRegression(), \n",
        "        'params': {\n",
        "            \n",
        "        }\n",
        "    },\n",
        "    'SGD': {\n",
        "        'model': SGDRegressor(max_iter = 1000, tol = 1e-3),\n",
        "        'params': {\n",
        "            'alpha': [0.01, 0.1, 1],\n",
        "            'max_iter': [100, 500, 1000]\n",
        "        }\n",
        "    },\n",
        "    'Ridge': {\n",
        "        'model': Ridge(),\n",
        "        'params': {\n",
        "            'alpha': [0.1, 1, 5, 10],\n",
        "            'max_iter': [100, 500, 1000, 2000]\n",
        "        }\n",
        "    },\n",
        "    'SVR': {\n",
        "        'model': SVR(),\n",
        "        'params': {\n",
        "            'kernel': ['rbf', 'poly'],\n",
        "            'tol': [0.01, 0.1, 1]\n",
        "        }\n",
        "    },\n",
        "    'DecisionTree': {\n",
        "        'model': DecisionTreeRegressor(),\n",
        "        'params': {\n",
        "            'criterion': ['squared_error', 'absolute_error']\n",
        "        }\n",
        "    }\n",
        "}"
      ],
      "metadata": {
        "id": "jbE77FAvBr90"
      },
      "execution_count": 483,
      "outputs": []
    },
    {
      "cell_type": "code",
      "source": [
        "from sklearn.model_selection import RandomizedSearchCV\n",
        "scores = []\n",
        "for model_name, model_parameter in model_params.items():\n",
        "  clf = RandomizedSearchCV(model_parameter['model'], model_parameter['params'], cv = 6, return_train_score = False, n_iter = 5)\n",
        "  clf.fit(x_train, y_train.ravel())\n",
        "  scores.append({\n",
        "      'model': model_name,\n",
        "      'best_scores': clf.best_score_,\n",
        "      'best_params': clf.best_params_\n",
        "})"
      ],
      "metadata": {
        "colab": {
          "base_uri": "https://localhost:8080/"
        },
        "id": "RycoJOGQMitr",
        "outputId": "dfe33237-f792-4046-b25b-15abe2589b38"
      },
      "execution_count": 484,
      "outputs": [
        {
          "output_type": "stream",
          "name": "stderr",
          "text": [
            "/usr/local/lib/python3.7/dist-packages/sklearn/model_selection/_search.py:296: UserWarning: The total space of parameters 1 is smaller than n_iter=5. Running 1 iterations. For exhaustive searches, use GridSearchCV.\n",
            "  UserWarning,\n",
            "/usr/local/lib/python3.7/dist-packages/sklearn/model_selection/_search.py:296: UserWarning: The total space of parameters 2 is smaller than n_iter=5. Running 2 iterations. For exhaustive searches, use GridSearchCV.\n",
            "  UserWarning,\n"
          ]
        }
      ]
    },
    {
      "cell_type": "code",
      "source": [
        "scores"
      ],
      "metadata": {
        "colab": {
          "base_uri": "https://localhost:8080/"
        },
        "id": "VOA4G7wYONqQ",
        "outputId": "857685ed-889a-4eeb-91c7-f2f48b681327"
      },
      "execution_count": 485,
      "outputs": [
        {
          "output_type": "execute_result",
          "data": {
            "text/plain": [
              "[{'model': 'LinearRegression',\n",
              "  'best_scores': -5.322690872163867e+28,\n",
              "  'best_params': {}},\n",
              " {'model': 'SGD',\n",
              "  'best_scores': 0.238483157625901,\n",
              "  'best_params': {'max_iter': 500, 'alpha': 1}},\n",
              " {'model': 'Ridge',\n",
              "  'best_scores': -0.04651206564753877,\n",
              "  'best_params': {'max_iter': 1000, 'alpha': 5}},\n",
              " {'model': 'SVR',\n",
              "  'best_scores': 0.19946809362464865,\n",
              "  'best_params': {'tol': 0.1, 'kernel': 'rbf'}},\n",
              " {'model': 'DecisionTree',\n",
              "  'best_scores': 0.3854808199514776,\n",
              "  'best_params': {'criterion': 'squared_error'}}]"
            ]
          },
          "metadata": {},
          "execution_count": 485
        }
      ]
    },
    {
      "cell_type": "code",
      "source": [
        "df = pd.DataFrame(scores)\n",
        "df"
      ],
      "metadata": {
        "colab": {
          "base_uri": "https://localhost:8080/",
          "height": 204
        },
        "id": "TOGgENCHBsCK",
        "outputId": "bdf9ea4e-35fd-4357-c828-a67419c8dc0e"
      },
      "execution_count": 486,
      "outputs": [
        {
          "output_type": "execute_result",
          "data": {
            "text/plain": [
              "              model   best_scores                     best_params\n",
              "0  LinearRegression -5.322691e+28                              {}\n",
              "1               SGD  2.384832e-01   {'max_iter': 500, 'alpha': 1}\n",
              "2             Ridge -4.651207e-02  {'max_iter': 1000, 'alpha': 5}\n",
              "3               SVR  1.994681e-01   {'tol': 0.1, 'kernel': 'rbf'}\n",
              "4      DecisionTree  3.854808e-01  {'criterion': 'squared_error'}"
            ],
            "text/html": [
              "\n",
              "  <div id=\"df-540cf469-cbcb-40a6-b5c5-6f829c876c85\">\n",
              "    <div class=\"colab-df-container\">\n",
              "      <div>\n",
              "<style scoped>\n",
              "    .dataframe tbody tr th:only-of-type {\n",
              "        vertical-align: middle;\n",
              "    }\n",
              "\n",
              "    .dataframe tbody tr th {\n",
              "        vertical-align: top;\n",
              "    }\n",
              "\n",
              "    .dataframe thead th {\n",
              "        text-align: right;\n",
              "    }\n",
              "</style>\n",
              "<table border=\"1\" class=\"dataframe\">\n",
              "  <thead>\n",
              "    <tr style=\"text-align: right;\">\n",
              "      <th></th>\n",
              "      <th>model</th>\n",
              "      <th>best_scores</th>\n",
              "      <th>best_params</th>\n",
              "    </tr>\n",
              "  </thead>\n",
              "  <tbody>\n",
              "    <tr>\n",
              "      <th>0</th>\n",
              "      <td>LinearRegression</td>\n",
              "      <td>-5.322691e+28</td>\n",
              "      <td>{}</td>\n",
              "    </tr>\n",
              "    <tr>\n",
              "      <th>1</th>\n",
              "      <td>SGD</td>\n",
              "      <td>2.384832e-01</td>\n",
              "      <td>{'max_iter': 500, 'alpha': 1}</td>\n",
              "    </tr>\n",
              "    <tr>\n",
              "      <th>2</th>\n",
              "      <td>Ridge</td>\n",
              "      <td>-4.651207e-02</td>\n",
              "      <td>{'max_iter': 1000, 'alpha': 5}</td>\n",
              "    </tr>\n",
              "    <tr>\n",
              "      <th>3</th>\n",
              "      <td>SVR</td>\n",
              "      <td>1.994681e-01</td>\n",
              "      <td>{'tol': 0.1, 'kernel': 'rbf'}</td>\n",
              "    </tr>\n",
              "    <tr>\n",
              "      <th>4</th>\n",
              "      <td>DecisionTree</td>\n",
              "      <td>3.854808e-01</td>\n",
              "      <td>{'criterion': 'squared_error'}</td>\n",
              "    </tr>\n",
              "  </tbody>\n",
              "</table>\n",
              "</div>\n",
              "      <button class=\"colab-df-convert\" onclick=\"convertToInteractive('df-540cf469-cbcb-40a6-b5c5-6f829c876c85')\"\n",
              "              title=\"Convert this dataframe to an interactive table.\"\n",
              "              style=\"display:none;\">\n",
              "        \n",
              "  <svg xmlns=\"http://www.w3.org/2000/svg\" height=\"24px\"viewBox=\"0 0 24 24\"\n",
              "       width=\"24px\">\n",
              "    <path d=\"M0 0h24v24H0V0z\" fill=\"none\"/>\n",
              "    <path d=\"M18.56 5.44l.94 2.06.94-2.06 2.06-.94-2.06-.94-.94-2.06-.94 2.06-2.06.94zm-11 1L8.5 8.5l.94-2.06 2.06-.94-2.06-.94L8.5 2.5l-.94 2.06-2.06.94zm10 10l.94 2.06.94-2.06 2.06-.94-2.06-.94-.94-2.06-.94 2.06-2.06.94z\"/><path d=\"M17.41 7.96l-1.37-1.37c-.4-.4-.92-.59-1.43-.59-.52 0-1.04.2-1.43.59L10.3 9.45l-7.72 7.72c-.78.78-.78 2.05 0 2.83L4 21.41c.39.39.9.59 1.41.59.51 0 1.02-.2 1.41-.59l7.78-7.78 2.81-2.81c.8-.78.8-2.07 0-2.86zM5.41 20L4 18.59l7.72-7.72 1.47 1.35L5.41 20z\"/>\n",
              "  </svg>\n",
              "      </button>\n",
              "      \n",
              "  <style>\n",
              "    .colab-df-container {\n",
              "      display:flex;\n",
              "      flex-wrap:wrap;\n",
              "      gap: 12px;\n",
              "    }\n",
              "\n",
              "    .colab-df-convert {\n",
              "      background-color: #E8F0FE;\n",
              "      border: none;\n",
              "      border-radius: 50%;\n",
              "      cursor: pointer;\n",
              "      display: none;\n",
              "      fill: #1967D2;\n",
              "      height: 32px;\n",
              "      padding: 0 0 0 0;\n",
              "      width: 32px;\n",
              "    }\n",
              "\n",
              "    .colab-df-convert:hover {\n",
              "      background-color: #E2EBFA;\n",
              "      box-shadow: 0px 1px 2px rgba(60, 64, 67, 0.3), 0px 1px 3px 1px rgba(60, 64, 67, 0.15);\n",
              "      fill: #174EA6;\n",
              "    }\n",
              "\n",
              "    [theme=dark] .colab-df-convert {\n",
              "      background-color: #3B4455;\n",
              "      fill: #D2E3FC;\n",
              "    }\n",
              "\n",
              "    [theme=dark] .colab-df-convert:hover {\n",
              "      background-color: #434B5C;\n",
              "      box-shadow: 0px 1px 3px 1px rgba(0, 0, 0, 0.15);\n",
              "      filter: drop-shadow(0px 1px 2px rgba(0, 0, 0, 0.3));\n",
              "      fill: #FFFFFF;\n",
              "    }\n",
              "  </style>\n",
              "\n",
              "      <script>\n",
              "        const buttonEl =\n",
              "          document.querySelector('#df-540cf469-cbcb-40a6-b5c5-6f829c876c85 button.colab-df-convert');\n",
              "        buttonEl.style.display =\n",
              "          google.colab.kernel.accessAllowed ? 'block' : 'none';\n",
              "\n",
              "        async function convertToInteractive(key) {\n",
              "          const element = document.querySelector('#df-540cf469-cbcb-40a6-b5c5-6f829c876c85');\n",
              "          const dataTable =\n",
              "            await google.colab.kernel.invokeFunction('convertToInteractive',\n",
              "                                                     [key], {});\n",
              "          if (!dataTable) return;\n",
              "\n",
              "          const docLinkHtml = 'Like what you see? Visit the ' +\n",
              "            '<a target=\"_blank\" href=https://colab.research.google.com/notebooks/data_table.ipynb>data table notebook</a>'\n",
              "            + ' to learn more about interactive tables.';\n",
              "          element.innerHTML = '';\n",
              "          dataTable['output_type'] = 'display_data';\n",
              "          await google.colab.output.renderOutput(dataTable, element);\n",
              "          const docLink = document.createElement('div');\n",
              "          docLink.innerHTML = docLinkHtml;\n",
              "          element.appendChild(docLink);\n",
              "        }\n",
              "      </script>\n",
              "    </div>\n",
              "  </div>\n",
              "  "
            ]
          },
          "metadata": {},
          "execution_count": 486
        }
      ]
    }
  ]
}